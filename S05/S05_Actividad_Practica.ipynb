{
 "cells": [
  {
   "cell_type": "markdown",
   "metadata": {},
   "source": "# S05 - Actividad Práctica: Ruleta Francesa Cuántica\n\n## Objetivo\nImplementar un juego de ruleta francesa utilizando circuitos cuánticos para simular aleatoriedad.\n- **Parte 1**: Ruleta justa con 2 jugadores y 1 croupier\n- **Parte 2**: Ruleta donde el croupier hace trampas\n\n## Reglas del juego\n- La ruleta tiene **37 números** (0-36)\n- Cada jugador empieza con **10 monedas**\n- El croupier empieza con **20 monedas**\n- Los jugadores pueden apostar a:\n  - Un número específico (0-36)\n  - Par o Impar\n  - Manque (1-18) o Passe (19-36)\n  - Rojo o Negro"
  },
  {
   "cell_type": "markdown",
   "metadata": {},
   "source": "---\n# PARTE 1: Ruleta Francesa (sin trampas)\n---"
  },
  {
   "cell_type": "markdown",
   "metadata": {},
   "source": "## 1. Importación de librerías\n\nImportar las librerías necesarias:\n- PyQuil (Program, gates)\n- Simulador cuántico (QVM)\n- Librerías auxiliares (numpy, random, etc.)"
  },
  {
   "cell_type": "code",
   "execution_count": null,
   "metadata": {},
   "outputs": [],
   "source": ""
  },
  {
   "cell_type": "markdown",
   "metadata": {},
   "source": "## 2. Definición de constantes del juego\n\nDefinir:\n- Números de la ruleta (0-36)\n- Mapeo de números a colores (Negro/Rojo/Verde para el 0)\n- Monedas iniciales de jugadores y croupier\n- Número de rondas a jugar"
  },
  {
   "cell_type": "code",
   "execution_count": null,
   "metadata": {},
   "outputs": [],
   "source": ""
  },
  {
   "cell_type": "markdown",
   "metadata": {},
   "source": "## 3. Circuito cuántico del croupier - Generar número aleatorio (0-36)\n\n**PISTA**: Para representar 37 números necesitas **6 qubits** (2^6 = 64 posibilidades)\n\nCrear una función que:\n1. Inicialice 6 qubits\n2. Aplique compuertas Hadamard para crear superposición\n3. Mida los qubits para obtener un número binario\n4. Convierta el resultado binario a decimal\n5. Si el número es >= 37, vuelva a ejecutar el circuito hasta obtener un número válido (0-36)"
  },
  {
   "cell_type": "code",
   "execution_count": null,
   "metadata": {},
   "outputs": [],
   "source": ""
  },
  {
   "cell_type": "markdown",
   "metadata": {},
   "source": "## 4. Circuito cuántico para jugadores - Representar apuestas\n\nCrear una función para que un jugador realice una apuesta aleatoria:\n\n**Tipos de apuesta a representar:**\n1. **Número específico** (0-36): Necesitas 6 qubits igual que el croupier\n2. **Par/Impar**: Necesitas 1 qubit (0=par, 1=impar)\n3. **Manque/Passe** (1-18 o 19-36): Necesitas 1 qubit (0=manque, 1=passe)\n4. **Color** (Rojo/Negro): Necesitas 1 qubit (0=rojo, 1=negro)\n\nLa función debe:\n1. Elegir aleatoriamente el tipo de apuesta\n2. Crear el circuito cuántico correspondiente con superposición\n3. Medir y retornar el tipo de apuesta y el valor apostado"
  },
  {
   "cell_type": "code",
   "execution_count": null,
   "metadata": {},
   "outputs": [],
   "source": ""
  },
  {
   "cell_type": "markdown",
   "metadata": {},
   "source": "## 5. Función para evaluar si la apuesta gana\n\nCrear una función que reciba:\n- El número ganador del croupier\n- El tipo de apuesta del jugador\n- El valor apostado por el jugador\n\nY retorne:\n- `True` si la apuesta gana\n- `False` si la apuesta pierde\n\nDebe verificar:\n- Si apostó a un número específico: ¿coincide exactamente?\n- Si apostó a par/impar: ¿el número ganador cumple la condición?\n- Si apostó a manque/passe: ¿el número está en el rango correcto?\n- Si apostó a color: ¿el número ganador es del color apostado?"
  },
  {
   "cell_type": "code",
   "execution_count": null,
   "metadata": {},
   "outputs": [],
   "source": ""
  },
  {
   "cell_type": "markdown",
   "metadata": {},
   "source": "## 6. Lógica de una ronda de juego\n\nCrear una función que ejecute una ronda completa:\n\n1. El croupier genera su número aleatorio (usando el circuito cuántico)\n2. El jugador 1 realiza su apuesta (usando el circuito cuántico)\n3. El jugador 2 realiza su apuesta (usando el circuito cuántico)\n4. Evaluar si cada jugador ganó o perdió\n5. Actualizar las monedas:\n   - Jugador gana: +1 moneda al jugador, -1 al croupier\n   - Jugador pierde: -1 moneda al jugador, +1 al croupier\n6. Mostrar los resultados de la ronda:\n   - Número ganador del croupier\n   - Apuestas de cada jugador\n   - Resultado (ganó/perdió)\n   - Estado de monedas de todos"
  },
  {
   "cell_type": "code",
   "execution_count": null,
   "metadata": {},
   "outputs": [],
   "source": ""
  },
  {
   "cell_type": "markdown",
   "metadata": {},
   "source": "## 7. Programa principal - PARTE 1\n\nCrear el programa principal que:\n\n1. Inicialice las monedas de los 2 jugadores (10 cada uno) y el croupier (20)\n2. Ejecute el número de rondas configurado\n3. En cada ronda, llame a la función de ronda de juego\n4. Al finalizar todas las rondas, muestre:\n   - Estado final de monedas de cada participante\n   - Resumen de ganadores y perdedores"
  },
  {
   "cell_type": "code",
   "execution_count": null,
   "metadata": {},
   "outputs": [],
   "source": ""
  },
  {
   "cell_type": "markdown",
   "metadata": {},
   "source": "---\n# PARTE 2: Ruleta con trampas del croupier\n---"
  },
  {
   "cell_type": "markdown",
   "metadata": {},
   "source": "## Explicación de las modificaciones\n\nEn esta segunda parte, el croupier va a hacer **trampas**:\n\n1. El croupier elegirá aleatoriamente a uno de los dos jugadores para \"espiar\"\n2. Conocerá el resultado de la apuesta de ese jugador **antes** de generar su propio número\n3. Si su número coincide con la apuesta del jugador espiado (por ejemplo, el jugador apostó a impar y el número del croupier también es impar), entonces:\n   - El croupier **cambiará aleatoriamente uno de sus qubits** de estado\n   - Esto modificará el resultado final del número\n4. **IMPORTANTE**: No cambies siempre el mismo qubit, debe ser aleatorio"
  },
  {
   "cell_type": "markdown",
   "metadata": {},
   "source": "## 8. Circuito cuántico del croupier modificado - Con trampas\n\nCrear una nueva función similar a la del paso 3, pero con modificaciones:\n\n1. Inicializar los 6 qubits y aplicar Hadamard (igual que antes)\n2. **NUEVO**: Recibir como parámetros:\n   - La apuesta del jugador espiado\n   - Un booleano indicando si debe hacer trampa\n3. Medir los qubits para obtener un número provisional\n4. **NUEVO**: Si debe hacer trampa:\n   - Verificar si el número provisional coincidiría con la apuesta del jugador espiado\n   - Si coincide: Elegir aleatoriamente uno de los 6 qubits y aplicar una compuerta X (NOT) para cambiar su estado\n   - Volver a medir para obtener el número final\n5. Si el número es >= 37, repetir el proceso\n6. Retornar el número final"
  },
  {
   "cell_type": "code",
   "execution_count": null,
   "metadata": {},
   "outputs": [],
   "source": ""
  },
  {
   "cell_type": "markdown",
   "metadata": {},
   "source": "## 9. Lógica de una ronda con trampas\n\nModificar la función de ronda del paso 6:\n\n1. El jugador 1 realiza su apuesta (igual que antes)\n2. El jugador 2 realiza su apuesta (igual que antes)\n3. **NUEVO**: El croupier elige aleatoriamente a qué jugador va a espiar (1 o 2)\n4. **NUEVO**: El croupier genera su número usando el circuito modificado, pasándole la apuesta del jugador espiado\n5. Evaluar si cada jugador ganó o perdió (igual que antes)\n6. Actualizar monedas (igual que antes)\n7. Mostrar resultados incluyendo qué jugador fue espiado"
  },
  {
   "cell_type": "code",
   "execution_count": null,
   "metadata": {},
   "outputs": [],
   "source": ""
  },
  {
   "cell_type": "markdown",
   "metadata": {},
   "source": "## 10. Programa principal - PARTE 2 (con trampas)\n\nCrear el programa principal para la versión con trampas:\n\n1. Inicializar las monedas de los 2 jugadores (10 cada uno) y el croupier (20)\n2. Ejecutar el número de rondas configurado\n3. En cada ronda, llamar a la función de ronda con trampas\n4. Al finalizar, mostrar:\n   - Estado final de monedas\n   - Comparación con la versión sin trampas (¿el croupier ganó más monedas?)"
  },
  {
   "cell_type": "code",
   "execution_count": null,
   "metadata": {},
   "outputs": [],
   "source": ""
  }
 ],
 "metadata": {
  "kernelspec": {
   "display_name": "Python 3",
   "language": "python",
   "name": "python3"
  },
  "language_info": {
   "name": "python",
   "version": "3.8.0"
  }
 },
 "nbformat": 4,
 "nbformat_minor": 4
}