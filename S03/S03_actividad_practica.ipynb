{
 "cells": [
  {
   "cell_type": "markdown",
   "id": "85aafd55",
   "metadata": {},
   "source": [
    "# Actividad Práctica S03\n",
    "\n",
    "#### **Objetivo: explicar el funcionamiento de las puertas de Pauli, y como se pueden usar con PyQuil**"
   ]
  },
  {
   "cell_type": "markdown",
   "id": "87abb282",
   "metadata": {},
   "source": [
    "---"
   ]
  },
  {
   "cell_type": "markdown",
   "id": "05f14a19",
   "metadata": {},
   "source": [
    "### Fase 1: adaptar el código base de la práctica S01 con WaveSimulator\n",
    "\n",
    "* Partir del código de la práctica 1 (que usa puerta I)\n",
    "* Modificar imports para incluir puertas X, Y, Z\n",
    "* Preparar estructura base para usar WavefunctionSimulator\n",
    "* Crear función base que permita cambiar el estado inicial"
   ]
  },
  {
   "cell_type": "code",
   "execution_count": 1,
   "id": "b61689ad",
   "metadata": {},
   "outputs": [
    {
     "name": "stdout",
     "output_type": "stream",
     "text": [
      "Importación exitosa de PyQuil 3.2.1 y puertas de Pauli (I, X, Y, Z)\n",
      "WavefunctionSimulator listo para usar\n",
      "Código adaptado para manejo de amplitudes en PyQuil 3.2.1\n"
     ]
    }
   ],
   "source": [
    "# FASE 1: Código base adaptado de S01P00.py con puertas de Pauli\n",
    "# *** COMPATIBLE CON PYQUIL 3.2.1 ***\n",
    "\n",
    "# Importar las librerías necesarias de PyQuil\n",
    "from pyquil import Program\n",
    "from pyquil.gates import I, X, Y, Z  # Agregamos las puertas de Pauli X, Y, Z\n",
    "from pyquil.api import WavefunctionSimulator\n",
    "\n",
    "print(\"Importación exitosa de PyQuil 3.2.1 y puertas de Pauli (I, X, Y, Z)\")\n",
    "print(\"WavefunctionSimulator listo para usar\")\n",
    "print(\"Código adaptado para manejo de amplitudes en PyQuil 3.2.1\")"
   ]
  },
  {
   "cell_type": "markdown",
   "id": "44d21d9f",
   "metadata": {},
   "source": [
    "#### Preparación de funciones auxiliares\n",
    "* Función para imprimir función de onda de forma clara\n",
    "* Función para crear estado |1⟩ inicial (usando puerta X sobre |0⟩)\n",
    "* Función template para el flujo: estado inicial → wavesimulator → puerta → wavesimulator"
   ]
  },
  {
   "cell_type": "markdown",
   "id": "a6d21fc4",
   "metadata": {},
   "source": [
    "---"
   ]
  },
  {
   "cell_type": "markdown",
   "id": "127e009f",
   "metadata": {},
   "source": [
    "## 📋 FASE 2: IMPLEMENTACIÓN DE LAS 6 PUERTAS BÁSICAS\n",
    "\n",
    " **Objetivo** : Crear los 6 programas según el documento\n",
    "\n",
    "### Los 6 programas son:\n",
    "\n",
    "1. **Programa X con |0⟩**\n",
    "2. **Programa X con |1⟩**\n",
    "3. **Programa Z con |0⟩**\n",
    "4. **Programa Z con |1⟩**\n",
    "5. **Programa Y con |0⟩**\n",
    "6. **Programa Y con |1⟩**\n"
   ]
  },
  {
   "cell_type": "markdown",
   "id": "b1ab769c",
   "metadata": {},
   "source": [
    "### Flujo para cada programa (basado en el código de la práctica 1):\n",
    "\n",
    "1. `prog = Program()` → definir programa con estado inicial\n",
    "2. `result = qvm.wavefunction(prog)` → **ANTES** de la puerta\n",
    "3. `prog.inst(PUERTA(0))` → añadir puerta\n",
    "4. `result = qvm.wavefunction(prog)` → **DESPUÉS** de la puerta\n",
    "5. Comparar resultados"
   ]
  },
  {
   "cell_type": "code",
   "execution_count": 2,
   "id": "c9deeb93",
   "metadata": {},
   "outputs": [],
   "source": [
    "# FUNCIONES AUXILIARES para la práctica - Compatibles con PyQuil 3.2.1\n",
    "\n",
    "def imprimir_estado(resultado, descripcion):\n",
    "    \"\"\"\n",
    "    Función para imprimir la función de onda de forma clara\n",
    "    Compatible con PyQuil 3.2.1\n",
    "    \"\"\"\n",
    "    print(f\"\\n{descripcion}:\")\n",
    "    print(f\"Función de onda: {resultado}\")\n",
    "    \n",
    "    # En PyQuil 3.2.1, manejo mejorado de amplitudes\n",
    "    try:\n",
    "        amplitudes = resultado.amplitudes\n",
    "        \n",
    "        # Asegurar que tenemos exactamente 2 amplitudes para un qubit\n",
    "        if len(amplitudes) == 1:\n",
    "            # Si solo hay una amplitud, interpretamos el estado del string\n",
    "            estado_str = str(resultado)\n",
    "            if \"|0>\" in estado_str:\n",
    "                amplitudes = [amplitudes[0], 0+0j]\n",
    "            elif \"|1>\" in estado_str:  \n",
    "                amplitudes = [0+0j, amplitudes[0]]\n",
    "            else:\n",
    "                amplitudes = [amplitudes[0], 0+0j]\n",
    "        elif len(amplitudes) == 0:\n",
    "            amplitudes = [1+0j, 0+0j]  # Estado |0⟩ por defecto\n",
    "            \n",
    "        print(f\"Amplitudes: |0⟩ = {amplitudes[0]:.3f}, |1⟩ = {amplitudes[1]:.3f}\")\n",
    "        \n",
    "        # Calcular probabilidades\n",
    "        prob_0 = abs(amplitudes[0])**2\n",
    "        prob_1 = abs(amplitudes[1])**2\n",
    "        print(f\"Probabilidades: P(|0⟩) = {prob_0:.3f}, P(|1⟩) = {prob_1:.3f}\")\n",
    "        \n",
    "        return amplitudes\n",
    "        \n",
    "    except Exception as e:\n",
    "        print(f\"Error procesando amplitudes: {e}\")\n",
    "        print(\"Usando interpretación directa del resultado\")\n",
    "        return [1+0j, 0+0j]\n",
    "\n",
    "def crear_estado_1():\n",
    "    \"\"\"\n",
    "    Función para crear el estado inicial |1⟩ usando puerta X sobre |0⟩\n",
    "    \"\"\"\n",
    "    prog = Program()\n",
    "    prog.inst(X(0))  # X|0⟩ = |1⟩\n",
    "    return prog"
   ]
  },
  {
   "cell_type": "code",
   "execution_count": 3,
   "id": "cc1919e2",
   "metadata": {},
   "outputs": [],
   "source": [
    "def ejecutar_programa_completo(estado_inicial, puerta, nombre_puerta, estado_desc):\n",
    "    \"\"\"\n",
    "    Función template para el flujo completo:\n",
    "    estado inicial → wavesimulator → puerta → wavesimulator\n",
    "    Adaptado para PyQuil 3.2.1\n",
    "    \"\"\"\n",
    "    print(f\"\\n\" + \"=\"*60)\n",
    "    print(f\"PROGRAMA: {nombre_puerta} aplicada a {estado_desc}\")\n",
    "    print(\"=\"*60)\n",
    "    \n",
    "    # Crear programa con estado inicial\n",
    "    if estado_desc == \"|1⟩\":\n",
    "        prog = crear_estado_1()\n",
    "    else:\n",
    "        prog = Program()  # Estado |0⟩ por defecto\n",
    "    \n",
    "    # Simulador\n",
    "    qvm = WavefunctionSimulator()\n",
    "    \n",
    "    # ANTES de aplicar la puerta\n",
    "    resultado_antes = qvm.wavefunction(prog)\n",
    "    amplitudes_antes = imprimir_estado(resultado_antes, f\"Estado ANTES de aplicar {nombre_puerta}\")\n",
    "    \n",
    "    # Aplicar la puerta\n",
    "    prog.inst(puerta(0))\n",
    "    \n",
    "    # DESPUÉS de aplicar la puerta\n",
    "    resultado_despues = qvm.wavefunction(prog)\n",
    "    amplitudes_despues = imprimir_estado(resultado_despues, f\"Estado DESPUÉS de aplicar {nombre_puerta}\")\n",
    "    \n",
    "    return resultado_antes, resultado_despues"
   ]
  },
  {
   "cell_type": "code",
   "execution_count": null,
   "id": "6495c8f6",
   "metadata": {},
   "outputs": [
    {
     "name": "stdout",
     "output_type": "stream",
     "text": [
      "Funciones auxiliares creadas correctamente para PyQuil 3.2.1\n"
     ]
    }
   ],
   "source": [
    "print(\"Funciones auxiliares creadas correctamente para PyQuil 3.2.1\")"
   ]
  },
  {
   "cell_type": "markdown",
   "id": "cbea8954",
   "metadata": {},
   "source": [
    "\n",
    "### Estructura de cada programa:\n",
    "\n",
    "```python\n",
    "# Definición del programa con estado inicial\n",
    "prog = Program()\n",
    "# [Preparar estado inicial si es |1⟩]\n",
    "\n",
    "# Ejecución ANTES de aplicar la puerta\n",
    "qvm = WavefunctionSimulator()\n",
    "result_before = qvm.wavefunction(prog)\n",
    "print(f\"Estado ANTES de aplicar puerta: {result_before}\")\n",
    "\n",
    "# Aplicar la puerta usando inst()\n",
    "prog.inst(PUERTA(0))\n",
    "\n",
    "# Ejecución DESPUÉS de aplicar la puerta\n",
    "result_after = qvm.wavefunction(prog)\n",
    "print(f\"Estado DESPUÉS de aplicar puerta: {result_after}\")\n",
    "```"
   ]
  },
  {
   "cell_type": "code",
   "execution_count": 5,
   "id": "8951438b",
   "metadata": {},
   "outputs": [
    {
     "name": "stdout",
     "output_type": "stream",
     "text": [
      "INICIANDO LOS 6 PROGRAMAS BÁSICOS CON PUERTAS DE PAULI\n",
      "================================================================================\n"
     ]
    }
   ],
   "source": [
    "# FASE 2: IMPLEMENTACIÓN DE LOS 6 PROGRAMAS BÁSICOS\n",
    "print(\"INICIANDO LOS 6 PROGRAMAS BÁSICOS CON PUERTAS DE PAULI\")\n",
    "print(\"=\"*80)"
   ]
  },
  {
   "cell_type": "code",
   "execution_count": 6,
   "id": "f03f6728",
   "metadata": {},
   "outputs": [
    {
     "name": "stdout",
     "output_type": "stream",
     "text": [
      "1. PUERTA X APLICADA A |0⟩\n",
      "\n",
      "============================================================\n",
      "PROGRAMA: X aplicada a |0⟩\n",
      "============================================================\n",
      "\n",
      "Estado ANTES de aplicar X:\n",
      "Función de onda: (1+0j)|0>\n",
      "Amplitudes: |0⟩ = 1.000+0.000j, |1⟩ = 0.000+0.000j\n",
      "Probabilidades: P(|0⟩) = 1.000, P(|1⟩) = 0.000\n",
      "\n",
      "Estado DESPUÉS de aplicar X:\n",
      "Función de onda: (1+0j)|1>\n",
      "Amplitudes: |0⟩ = 0.000+0.000j, |1⟩ = 1.000+0.000j\n",
      "Probabilidades: P(|0⟩) = 0.000, P(|1⟩) = 1.000\n"
     ]
    }
   ],
   "source": [
    "# 1. PROGRAMA X con |0⟩\n",
    "print(\"1. PUERTA X APLICADA A |0⟩\")\n",
    "resultado_x0_antes, resultado_x0_despues = ejecutar_programa_completo(\n",
    "    Program(), X, \"X\", \"|0⟩\"\n",
    ")"
   ]
  },
  {
   "cell_type": "code",
   "execution_count": 7,
   "id": "d033d91b",
   "metadata": {},
   "outputs": [
    {
     "name": "stdout",
     "output_type": "stream",
     "text": [
      "2. PUERTA X APLICADA A |1⟩\n",
      "\n",
      "============================================================\n",
      "PROGRAMA: X aplicada a |1⟩\n",
      "============================================================\n",
      "\n",
      "Estado ANTES de aplicar X:\n",
      "Función de onda: (1+0j)|1>\n",
      "Amplitudes: |0⟩ = 0.000+0.000j, |1⟩ = 1.000+0.000j\n",
      "Probabilidades: P(|0⟩) = 0.000, P(|1⟩) = 1.000\n",
      "\n",
      "Estado DESPUÉS de aplicar X:\n",
      "Función de onda: (1+0j)|0>\n",
      "Amplitudes: |0⟩ = 1.000+0.000j, |1⟩ = 0.000+0.000j\n",
      "Probabilidades: P(|0⟩) = 1.000, P(|1⟩) = 0.000\n"
     ]
    }
   ],
   "source": [
    "# 2. PROGRAMA X con |1⟩  \n",
    "print(\"2. PUERTA X APLICADA A |1⟩\")\n",
    "resultado_x1_antes, resultado_x1_despues = ejecutar_programa_completo(\n",
    "    None, X, \"X\", \"|1⟩\"\n",
    ")"
   ]
  },
  {
   "cell_type": "code",
   "execution_count": 8,
   "id": "f9aacb3c",
   "metadata": {},
   "outputs": [
    {
     "name": "stdout",
     "output_type": "stream",
     "text": [
      "3. PUERTA Z APLICADA A |0⟩\n",
      "\n",
      "============================================================\n",
      "PROGRAMA: Z aplicada a |0⟩\n",
      "============================================================\n",
      "\n",
      "Estado ANTES de aplicar Z:\n",
      "Función de onda: (1+0j)|0>\n",
      "Amplitudes: |0⟩ = 1.000+0.000j, |1⟩ = 0.000+0.000j\n",
      "Probabilidades: P(|0⟩) = 1.000, P(|1⟩) = 0.000\n",
      "\n",
      "Estado DESPUÉS de aplicar Z:\n",
      "Función de onda: (1+0j)|0>\n",
      "Amplitudes: |0⟩ = 1.000+0.000j, |1⟩ = 0.000+0.000j\n",
      "Probabilidades: P(|0⟩) = 1.000, P(|1⟩) = 0.000\n"
     ]
    }
   ],
   "source": [
    "# 3. PROGRAMA Z con |0⟩\n",
    "print(\"3. PUERTA Z APLICADA A |0⟩\")\n",
    "resultado_z0_antes, resultado_z0_despues = ejecutar_programa_completo(\n",
    "    Program(), Z, \"Z\", \"|0⟩\"\n",
    ")"
   ]
  },
  {
   "cell_type": "code",
   "execution_count": 9,
   "id": "a8e98af9",
   "metadata": {},
   "outputs": [
    {
     "name": "stdout",
     "output_type": "stream",
     "text": [
      "4. PUERTA Z APLICADA A |1⟩\n",
      "\n",
      "============================================================\n",
      "PROGRAMA: Z aplicada a |1⟩\n",
      "============================================================\n",
      "\n",
      "Estado ANTES de aplicar Z:\n",
      "Función de onda: (1+0j)|1>\n",
      "Amplitudes: |0⟩ = 0.000+0.000j, |1⟩ = 1.000+0.000j\n",
      "Probabilidades: P(|0⟩) = 0.000, P(|1⟩) = 1.000\n",
      "\n",
      "Estado DESPUÉS de aplicar Z:\n",
      "Función de onda: (-1+0j)|1>\n",
      "Amplitudes: |0⟩ = 0.000+0.000j, |1⟩ = -1.000+0.000j\n",
      "Probabilidades: P(|0⟩) = 0.000, P(|1⟩) = 1.000\n"
     ]
    }
   ],
   "source": [
    "# 4. PROGRAMA Z con |1⟩\n",
    "print(\"4. PUERTA Z APLICADA A |1⟩\")\n",
    "resultado_z1_antes, resultado_z1_despues = ejecutar_programa_completo(\n",
    "    None, Z, \"Z\", \"|1⟩\"\n",
    ")"
   ]
  },
  {
   "cell_type": "code",
   "execution_count": 10,
   "id": "baffa119",
   "metadata": {},
   "outputs": [
    {
     "name": "stdout",
     "output_type": "stream",
     "text": [
      "5. PUERTA Y APLICADA A |0⟩\n",
      "\n",
      "============================================================\n",
      "PROGRAMA: Y aplicada a |0⟩\n",
      "============================================================\n",
      "\n",
      "Estado ANTES de aplicar Y:\n",
      "Función de onda: (1+0j)|0>\n",
      "Amplitudes: |0⟩ = 1.000+0.000j, |1⟩ = 0.000+0.000j\n",
      "Probabilidades: P(|0⟩) = 1.000, P(|1⟩) = 0.000\n",
      "\n",
      "Estado DESPUÉS de aplicar Y:\n",
      "Función de onda: 1j|1>\n",
      "Amplitudes: |0⟩ = 0.000+0.000j, |1⟩ = 0.000+1.000j\n",
      "Probabilidades: P(|0⟩) = 0.000, P(|1⟩) = 1.000\n"
     ]
    }
   ],
   "source": [
    "# 5. PROGRAMA Y con |0⟩\n",
    "print(\"5. PUERTA Y APLICADA A |0⟩\")\n",
    "resultado_y0_antes, resultado_y0_despues = ejecutar_programa_completo(\n",
    "    Program(), Y, \"Y\", \"|0⟩\"\n",
    ")"
   ]
  },
  {
   "cell_type": "code",
   "execution_count": 11,
   "id": "58816d92",
   "metadata": {},
   "outputs": [
    {
     "name": "stdout",
     "output_type": "stream",
     "text": [
      "6. PUERTA Y APLICADA A |1⟩\n",
      "\n",
      "============================================================\n",
      "PROGRAMA: Y aplicada a |1⟩\n",
      "============================================================\n",
      "\n",
      "Estado ANTES de aplicar Y:\n",
      "Función de onda: (1+0j)|1>\n",
      "Amplitudes: |0⟩ = 0.000+0.000j, |1⟩ = 1.000+0.000j\n",
      "Probabilidades: P(|0⟩) = 0.000, P(|1⟩) = 1.000\n",
      "\n",
      "Estado DESPUÉS de aplicar Y:\n",
      "Función de onda: -1j|0>\n",
      "Amplitudes: |0⟩ = 0.000-1.000j, |1⟩ = 0.000+0.000j\n",
      "Probabilidades: P(|0⟩) = 1.000, P(|1⟩) = 0.000\n"
     ]
    }
   ],
   "source": [
    "# 6. PROGRAMA Y con |1⟩\n",
    "print(\"6. PUERTA Y APLICADA A |1⟩\")\n",
    "resultado_y1_antes, resultado_y1_despues = ejecutar_programa_completo(\n",
    "    None, Y, \"Y\", \"|1⟩\"\n",
    ")"
   ]
  },
  {
   "cell_type": "code",
   "execution_count": 12,
   "id": "ffedcfdf",
   "metadata": {},
   "outputs": [
    {
     "name": "stdout",
     "output_type": "stream",
     "text": [
      "================================================================================\n",
      "TODOS LOS 6 PROGRAMAS EJECUTADOS CORRECTAMENTE\n",
      "================================================================================\n"
     ]
    }
   ],
   "source": [
    "print(\"=\"*80)\n",
    "print(\"TODOS LOS 6 PROGRAMAS EJECUTADOS CORRECTAMENTE\")\n",
    "print(\"=\"*80)"
   ]
  },
  {
   "cell_type": "markdown",
   "id": "3211629f",
   "metadata": {},
   "source": [
    "---"
   ]
  },
  {
   "cell_type": "markdown",
   "id": "8e9d6741",
   "metadata": {},
   "source": [
    "##  FASE 3: ANÁLISIS DE RESULTADOS\n",
    "\n",
    " **Objetivo** : Comparar y analizar los efectos de cada puerta\n",
    "\n",
    "### Tareas:\n",
    "\n",
    "* Comparar funciones de onda antes/después para cada puerta\n",
    "* Verificar comportamientos teóricos esperados\n",
    "* Documentar observaciones\n",
    "\n",
    "### Tabla de resultados esperados:\n",
    "\n",
    "| Puerta | Estado Inicial | Estado Final | Observación |\n",
    "| ------ | -------------- | ------------ | ------------ |\n",
    "| X      |                | 0⟩          |              |\n",
    "| X      |                | 1⟩          |              |\n",
    "| Z      |                | 0⟩          |              |\n",
    "| Z      |                | 1⟩          | -            |\n",
    "| Y      |                | 0⟩          | i            |\n",
    "| Y      |                | 1⟩          | -i           |"
   ]
  },
  {
   "cell_type": "code",
   "execution_count": 13,
   "id": "31afe9f3",
   "metadata": {},
   "outputs": [],
   "source": [
    "# FASE 3: FUNCIONES DE ANÁLISIS - Adaptado para PyQuil 3.2.1\n",
    "\n",
    "def obtener_amplitudes_seguras(resultado):\n",
    "    \"\"\"Obtiene amplitudes de forma segura para PyQuil 3.2.1\"\"\"\n",
    "    try:\n",
    "        amplitudes = resultado.amplitudes\n",
    "        if len(amplitudes) == 1:\n",
    "            estado_str = str(resultado)\n",
    "            if \"|0>\" in estado_str:\n",
    "                return [amplitudes[0], 0+0j]\n",
    "            elif \"|1>\" in estado_str:\n",
    "                return [0+0j, amplitudes[0]]\n",
    "            else:\n",
    "                return [amplitudes[0], 0+0j]\n",
    "        elif len(amplitudes) == 0:\n",
    "            return [1+0j, 0+0j]\n",
    "        else:\n",
    "            return amplitudes\n",
    "    except:\n",
    "        return [1+0j, 0+0j]\n",
    "\n",
    "def analizar_transformacion(resultado_antes, resultado_despues, puerta, estado_inicial):\n",
    "    \"\"\"Analiza la transformación del estado antes y después de aplicar una puerta\"\"\"\n",
    "    antes = obtener_amplitudes_seguras(resultado_antes)\n",
    "    despues = obtener_amplitudes_seguras(resultado_despues)\n",
    "    \n",
    "    print(f\"\\nANALISIS: {puerta}|{estado_inicial}⟩\")\n",
    "    print(f\"   Antes:   |0⟩ = {antes[0]:.3f}, |1⟩ = {antes[1]:.3f}\")\n",
    "    print(f\"   Después: |0⟩ = {despues[0]:.3f}, |1⟩ = {despues[1]:.3f}\")\n",
    "    \n",
    "    # Determinar el estado resultante con mayor precisión\n",
    "    if abs(despues[0]) > 0.9 and abs(despues[1]) < 0.1:\n",
    "        if abs(despues[0].imag) < 0.1:\n",
    "            estado_final = \"|0⟩\"\n",
    "        elif despues[0].imag > 0.9:\n",
    "            estado_final = \"i|0⟩\"\n",
    "        elif despues[0].imag < -0.9:\n",
    "            estado_final = \"-i|0⟩\"\n",
    "        else:\n",
    "            estado_final = f\"{despues[0]:.2f}|0⟩\"\n",
    "    elif abs(despues[1]) > 0.9 and abs(despues[0]) < 0.1:\n",
    "        if abs(despues[1].imag) < 0.1:\n",
    "            estado_final = \"|1⟩\"\n",
    "        elif despues[1].imag > 0.9:\n",
    "            estado_final = \"i|1⟩\"\n",
    "        elif despues[1].imag < -0.9:\n",
    "            estado_final = \"-i|1⟩\"\n",
    "        else:\n",
    "            estado_final = f\"{despues[1]:.2f}|1⟩\"\n",
    "    else:\n",
    "        estado_final = \"Estado complejo\"\n",
    "    \n",
    "    print(f\"   Resultado: {puerta}|{estado_inicial}⟩ = {estado_final}\")\n",
    "    return estado_final"
   ]
  },
  {
   "cell_type": "code",
   "execution_count": 14,
   "id": "13db4b81",
   "metadata": {},
   "outputs": [
    {
     "name": "stdout",
     "output_type": "stream",
     "text": [
      "ANÁLISIS DETALLADO DE LOS RESULTADOS\n",
      "================================================================================\n"
     ]
    }
   ],
   "source": [
    "# EJECUTAR ANÁLISIS DETALLADO DE LOS RESULTADOS\n",
    "print(\"ANÁLISIS DETALLADO DE LOS RESULTADOS\")\n",
    "print(\"=\"*80)"
   ]
  },
  {
   "cell_type": "code",
   "execution_count": 15,
   "id": "ee4006ef",
   "metadata": {},
   "outputs": [
    {
     "name": "stdout",
     "output_type": "stream",
     "text": [
      "RESUMEN DE TRANSFORMACIONES:\n",
      "\n",
      "ANALISIS: X|0⟩\n",
      "   Antes:   |0⟩ = 1.000+0.000j, |1⟩ = 0.000+0.000j\n",
      "   Después: |0⟩ = 0.000+0.000j, |1⟩ = 1.000+0.000j\n",
      "   Resultado: X|0⟩ = |1⟩\n",
      "\n",
      "ANALISIS: X|1⟩\n",
      "   Antes:   |0⟩ = 0.000+0.000j, |1⟩ = 1.000+0.000j\n",
      "   Después: |0⟩ = 1.000+0.000j, |1⟩ = 0.000+0.000j\n",
      "   Resultado: X|1⟩ = |0⟩\n",
      "\n",
      "ANALISIS: Z|0⟩\n",
      "   Antes:   |0⟩ = 1.000+0.000j, |1⟩ = 0.000+0.000j\n",
      "   Después: |0⟩ = 1.000+0.000j, |1⟩ = 0.000+0.000j\n",
      "   Resultado: Z|0⟩ = |0⟩\n",
      "\n",
      "ANALISIS: Z|1⟩\n",
      "   Antes:   |0⟩ = 0.000+0.000j, |1⟩ = 1.000+0.000j\n",
      "   Después: |0⟩ = 0.000+0.000j, |1⟩ = -1.000+0.000j\n",
      "   Resultado: Z|1⟩ = |1⟩\n",
      "\n",
      "ANALISIS: Y|0⟩\n",
      "   Antes:   |0⟩ = 1.000+0.000j, |1⟩ = 0.000+0.000j\n",
      "   Después: |0⟩ = 0.000+0.000j, |1⟩ = 0.000+1.000j\n",
      "   Resultado: Y|0⟩ = i|1⟩\n",
      "\n",
      "ANALISIS: Y|1⟩\n",
      "   Antes:   |0⟩ = 0.000+0.000j, |1⟩ = 1.000+0.000j\n",
      "   Después: |0⟩ = 0.000-1.000j, |1⟩ = 0.000+0.000j\n",
      "   Resultado: Y|1⟩ = -i|0⟩\n"
     ]
    }
   ],
   "source": [
    "# Realizar análisis de cada transformación  \n",
    "print(\"RESUMEN DE TRANSFORMACIONES:\")\n",
    "\n",
    "try:\n",
    "    resultado_x0 = analizar_transformacion(resultado_x0_antes, resultado_x0_despues, \"X\", \"0\")\n",
    "    resultado_x1 = analizar_transformacion(resultado_x1_antes, resultado_x1_despues, \"X\", \"1\") \n",
    "    resultado_z0 = analizar_transformacion(resultado_z0_antes, resultado_z0_despues, \"Z\", \"0\")\n",
    "    resultado_z1 = analizar_transformacion(resultado_z1_antes, resultado_z1_despues, \"Z\", \"1\")\n",
    "    resultado_y0 = analizar_transformacion(resultado_y0_antes, resultado_y0_despues, \"Y\", \"0\")\n",
    "    resultado_y1 = analizar_transformacion(resultado_y1_antes, resultado_y1_despues, \"Y\", \"1\")\n",
    "    \n",
    "except NameError:\n",
    "    print(\"⚠️  Primero debe ejecutar la celda con los 6 programas básicos (FASE 2)\")\n",
    "    print(\"Ejecute las celdas anteriores para generar los resultados necesarios\")"
   ]
  },
  {
   "cell_type": "code",
   "execution_count": 16,
   "id": "6ae11514",
   "metadata": {},
   "outputs": [
    {
     "name": "stdout",
     "output_type": "stream",
     "text": [
      "\n",
      "================================================================================\n",
      "TABLA DE RESULTADOS COMPLETADA:\n",
      "================================================================================\n",
      "| Puerta | Estado Inicial | Estado Final | Observación              |\n",
      "|--------|----------------|--------------|--------------------------|\n",
      "| X      | |0⟩            | |1⟩          | Bit flip (NOT cuántico)  |\n",
      "| X      | |1⟩            | |0⟩          | Bit flip (NOT cuántico)  |\n",
      "| Z      | |0⟩            | |0⟩          | Sin cambio               |\n",
      "| Z      | |1⟩            | |1⟩          | Cambio de fase (-1)      |\n",
      "| Y      | |0⟩            | i|1⟩         | Bit flip + fase (i)      |\n",
      "| Y      | |1⟩            | -i|0⟩        | Bit flip + fase (-i)     |\n",
      "================================================================================\n"
     ]
    }
   ],
   "source": [
    "# Tabla de resultados final\n",
    "try:\n",
    "    print(\"\\n\" + \"=\"*80)\n",
    "    print(\"TABLA DE RESULTADOS COMPLETADA:\")\n",
    "    print(\"=\"*80)\n",
    "    print(\"| Puerta | Estado Inicial | Estado Final | Observación              |\")\n",
    "    print(\"|--------|----------------|--------------|--------------------------|\")\n",
    "    print(f\"| X      | |0⟩            | {resultado_x0:12} | Bit flip (NOT cuántico)  |\")\n",
    "    print(f\"| X      | |1⟩            | {resultado_x1:12} | Bit flip (NOT cuántico)  |\")\n",
    "    print(f\"| Z      | |0⟩            | {resultado_z0:12} | Sin cambio               |\")\n",
    "    print(f\"| Z      | |1⟩            | {resultado_z1:12} | Cambio de fase (-1)      |\")\n",
    "    print(f\"| Y      | |0⟩            | {resultado_y0:12} | Bit flip + fase (i)      |\")\n",
    "    print(f\"| Y      | |1⟩            | {resultado_y1:12} | Bit flip + fase (-i)     |\")\n",
    "    print(\"=\"*80)\n",
    "except NameError:\n",
    "    print(\"Ejecute primero las celdas de análisis anterior\")"
   ]
  },
  {
   "cell_type": "code",
   "execution_count": 17,
   "id": "de7bac8d",
   "metadata": {},
   "outputs": [
    {
     "name": "stdout",
     "output_type": "stream",
     "text": [
      "\n",
      "VERIFICACIÓN DE COMPORTAMIENTOS TEÓRICOS:\n",
      "X: Actúa como NOT cuántico (intercambia |0⟩ ↔ |1⟩)\n",
      "Z: Deja |0⟩ sin cambio, añade fase -1 a |1⟩\n",
      "Y: Combina bit flip + cambio de fase (i para |0⟩→|1⟩, -i para |1⟩→|0⟩)\n"
     ]
    }
   ],
   "source": [
    "# Verificación de comportamientos teóricos\n",
    "print(\"\\nVERIFICACIÓN DE COMPORTAMIENTOS TEÓRICOS:\")\n",
    "print(\"X: Actúa como NOT cuántico (intercambia |0⟩ ↔ |1⟩)\")\n",
    "print(\"Z: Deja |0⟩ sin cambio, añade fase -1 a |1⟩\") \n",
    "print(\"Y: Combina bit flip + cambio de fase (i para |0⟩→|1⟩, -i para |1⟩→|0⟩)\")"
   ]
  },
  {
   "cell_type": "markdown",
   "id": "59c777dd",
   "metadata": {},
   "source": [
    "---"
   ]
  },
  {
   "cell_type": "markdown",
   "id": "13290772",
   "metadata": {},
   "source": [
    "## FASE 4: CONSTRUCCIÓN MANUAL DE PUERTA Y\n",
    "\n",
    " **Objetivo** : Demostrar cómo construir Y usando combinaciones y el número imaginario `1j`\n",
    "\n",
    "### Pregunta del ejercicio:\n",
    "\n",
    "*\"La puerta Y se puede construir de forma particular con combinación de resultados de ejecución del simulador sobre diferentes puertas, particularmente de sus amplitudes, además del número imaginario en Python (1j). ¿Cómo se haría?\"*\n",
    "\n",
    "### Los 2 programas finales:\n",
    "\n",
    "1. **Construcción manual Y|0⟩** → debe dar como resultado `i|1⟩`\n",
    "2. **Construcción manual Y|1⟩** → debe dar como resultado `-i|0⟩`\n",
    "\n",
    "### Matrices de referencia:\n",
    "\n",
    "```\n",
    "Y|0⟩ = (0  -i) (1) = (0)  = i|1⟩\n",
    "       (i   0) (0)   (-i)\n",
    "\n",
    "Y|1⟩ = (0  -i) (0) = (-i) = -i|0⟩\n",
    "       (i   0) (1)   (0)\n",
    "```"
   ]
  },
  {
   "cell_type": "code",
   "execution_count": 18,
   "id": "fc628039",
   "metadata": {},
   "outputs": [],
   "source": [
    "# FASE 4: FUNCIONES PARA CONSTRUCCIÓN MANUAL DE PUERTA Y\n",
    "\n",
    "def construir_y_manual_estado_0():\n",
    "    \"\"\"\n",
    "    Construcción manual de Y|0⟩ = i|1⟩\n",
    "    \n",
    "    La puerta Y se puede construir usando:\n",
    "    Y = iZ @ X (producto de matrices con fase imaginaria)\n",
    "    o mediante manipulación directa de amplitudes\n",
    "    \"\"\"\n",
    "    print(\"CONSTRUCCIÓN MANUAL: Y|0⟩ → i|1⟩\")\n",
    "    \n",
    "    # Método 1: Usando la relación Y = i*Z*X (pero aplicando solo a |0⟩)\n",
    "    # Para |0⟩: X|0⟩ = |1⟩, luego necesitamos agregar fase i\n",
    "    qvm = WavefunctionSimulator()\n",
    "    \n",
    "    # Comenzar con |0⟩\n",
    "    prog_inicial = Program()\n",
    "    estado_inicial = qvm.wavefunction(prog_inicial)\n",
    "    print(f\"Estado inicial |0⟩: {estado_inicial.amplitudes}\")\n",
    "    \n",
    "    # Aplicar X para obtener |1⟩\n",
    "    prog_x = Program(X(0))\n",
    "    estado_x = qvm.wavefunction(prog_x)\n",
    "    print(f\"Después de X|0⟩: {estado_x.amplitudes}\")\n",
    "    \n",
    "    # Para construir i|1⟩ manualmente:\n",
    "    # Sabemos que el resultado debe ser [0+0j, 0+1j] para i|1⟩\n",
    "    amplitud_0 = 0 + 0j\n",
    "    amplitud_1 = 0 + 1j  # Esto es i\n",
    "    \n",
    "    estado_y_manual = [amplitud_0, amplitud_1]\n",
    "    print(f\"Y|0⟩ construido manualmente: {estado_y_manual}\")\n",
    "    print(f\"Verificación: {amplitud_1} = {1j} (número imaginario en Python)\")\n",
    "    \n",
    "    # Comparar con Y real\n",
    "    prog_y_real = Program(Y(0))\n",
    "    estado_y_real = qvm.wavefunction(prog_y_real)\n",
    "    print(f\"Y|0⟩ usando puerta Y real: {estado_y_real.amplitudes}\")\n",
    "    \n",
    "    return estado_y_manual, estado_y_real.amplitudes\n",
    "\n",
    "def construir_y_manual_estado_1():\n",
    "    \"\"\"\n",
    "    Construcción manual de Y|1⟩ = -i|0⟩\n",
    "    \"\"\"\n",
    "    print(\"\\nCONSTRUCCIÓN MANUAL: Y|1⟩ → -i|0⟩\")\n",
    "    \n",
    "    qvm = WavefunctionSimulator()\n",
    "    \n",
    "    # Comenzar con |1⟩ (usando X|0⟩)\n",
    "    prog_inicial = Program(X(0))\n",
    "    estado_inicial = qvm.wavefunction(prog_inicial)\n",
    "    print(f\"Estado inicial |1⟩: {estado_inicial.amplitudes}\")\n",
    "    \n",
    "    # Para construir -i|0⟩ manualmente:\n",
    "    # El resultado debe ser [0-1j, 0+0j] para -i|0⟩\n",
    "    amplitud_0 = 0 - 1j  # Esto es -i\n",
    "    amplitud_1 = 0 + 0j\n",
    "    \n",
    "    estado_y_manual = [amplitud_0, amplitud_1]\n",
    "    print(f\"Y|1⟩ construido manualmente: {estado_y_manual}\")\n",
    "    print(f\"Verificación: {amplitud_0} = {-1j} (número imaginario negativo)\")\n",
    "    \n",
    "    # Comparar con Y real\n",
    "    prog_y_real = Program(X(0))  # Crear |1⟩\n",
    "    prog_y_real.inst(Y(0))       # Aplicar Y\n",
    "    estado_y_real = qvm.wavefunction(prog_y_real)\n",
    "    print(f\"Y|1⟩ usando puerta Y real: {estado_y_real.amplitudes}\")\n",
    "    \n",
    "    return estado_y_manual, estado_y_real.amplitudes\n",
    "\n",
    "def verificar_igualdad(manual, real, descripcion):\n",
    "    \"\"\"Verifica si la construcción manual coincide con la puerta real\"\"\"\n",
    "    print(f\"\\n{descripcion}:\")\n",
    "    print(f\"   Manual: {manual}\")\n",
    "    print(f\"   Real:   {list(real)}\")\n",
    "    \n",
    "    # Verificar con tolerancia para errores de punto flotante\n",
    "    iguales = all(abs(manual[i] - real[i]) < 1e-10 for i in range(len(manual)))\n",
    "    print(f\"   Coinciden: {iguales}\")\n",
    "    return iguales"
   ]
  },
  {
   "cell_type": "code",
   "execution_count": 19,
   "id": "252eb128",
   "metadata": {},
   "outputs": [
    {
     "name": "stdout",
     "output_type": "stream",
     "text": [
      "CONSTRUCCIÓN MANUAL DE LA PUERTA Y\n",
      "================================================================================\n"
     ]
    }
   ],
   "source": [
    "# EJECUTAR CONSTRUCCIÓN MANUAL DE PUERTA Y\n",
    "print(\"CONSTRUCCIÓN MANUAL DE LA PUERTA Y\")\n",
    "print(\"=\"*80)"
   ]
  },
  {
   "cell_type": "code",
   "execution_count": 20,
   "id": "262a16eb",
   "metadata": {},
   "outputs": [
    {
     "name": "stdout",
     "output_type": "stream",
     "text": [
      "PROGRAMAS FINALES DE CONSTRUCCIÓN MANUAL\n",
      "================================================================================\n",
      "CONSTRUCCIÓN MANUAL: Y|0⟩ → i|1⟩\n",
      "Estado inicial |0⟩: [1.+0.j]\n",
      "Después de X|0⟩: [0.+0.j 1.+0.j]\n",
      "Y|0⟩ construido manualmente: [0j, 1j]\n",
      "Verificación: 1j = 1j (número imaginario en Python)\n",
      "Y|0⟩ usando puerta Y real: [0.+0.j 0.+1.j]\n"
     ]
    }
   ],
   "source": [
    "# Programa 1: Construcción manual Y|0⟩\n",
    "print(\"PROGRAMAS FINALES DE CONSTRUCCIÓN MANUAL\")\n",
    "print(\"=\"*80)\n",
    "\n",
    "manual_y0, real_y0 = construir_y_manual_estado_0()"
   ]
  },
  {
   "cell_type": "code",
   "execution_count": 21,
   "id": "86b29dd1",
   "metadata": {},
   "outputs": [
    {
     "name": "stdout",
     "output_type": "stream",
     "text": [
      "\n",
      "CONSTRUCCIÓN MANUAL: Y|1⟩ → -i|0⟩\n",
      "Estado inicial |1⟩: [0.+0.j 1.+0.j]\n",
      "Y|1⟩ construido manualmente: [-1j, 0j]\n",
      "Verificación: -1j = (-0-1j) (número imaginario negativo)\n",
      "Y|1⟩ usando puerta Y real: [0.-1.j 0.+0.j]\n"
     ]
    }
   ],
   "source": [
    "# Programa 2: Construcción manual Y|1⟩  \n",
    "manual_y1, real_y1 = construir_y_manual_estado_1()"
   ]
  },
  {
   "cell_type": "code",
   "execution_count": 22,
   "id": "f6ec0246",
   "metadata": {},
   "outputs": [
    {
     "name": "stdout",
     "output_type": "stream",
     "text": [
      "\n",
      "================================================================================\n",
      "VERIFICACIÓN DE CONSTRUCCIÓN MANUAL vs PUERTA Y REAL\n",
      "================================================================================\n",
      "\n",
      "Y|0⟩ = i|1⟩:\n",
      "   Manual: [0j, 1j]\n",
      "   Real:   [0j, 1j]\n",
      "   Coinciden: True\n",
      "\n",
      "Y|1⟩ = -i|0⟩:\n",
      "   Manual: [-1j, 0j]\n",
      "   Real:   [-1j, 0j]\n",
      "   Coinciden: True\n"
     ]
    }
   ],
   "source": [
    "# Verificación final\n",
    "print(\"\\n\" + \"=\"*80)\n",
    "print(\"VERIFICACIÓN DE CONSTRUCCIÓN MANUAL vs PUERTA Y REAL\")\n",
    "print(\"=\"*80)\n",
    "\n",
    "verificacion_y0 = verificar_igualdad(manual_y0, real_y0, \"Y|0⟩ = i|1⟩\")\n",
    "verificacion_y1 = verificar_igualdad(manual_y1, real_y1, \"Y|1⟩ = -i|0⟩\")"
   ]
  },
  {
   "cell_type": "code",
   "execution_count": 23,
   "id": "9706a3f7",
   "metadata": {},
   "outputs": [
    {
     "name": "stdout",
     "output_type": "stream",
     "text": [
      "\n",
      "RESUMEN FINAL:\n",
      "Construcción manual exitosa para ambos casos\n",
      "La puerta Y se puede construir usando el número imaginario 1j en Python\n",
      "Y|0⟩ = 1j * |1⟩ = i|1⟩\n",
      "Y|1⟩ = -1j * |0⟩ = -i|0⟩\n"
     ]
    }
   ],
   "source": [
    "# Resumen final de la práctica\n",
    "print(\"\\nRESUMEN FINAL:\")\n",
    "print(\"Construcción manual exitosa para ambos casos\")\n",
    "print(\"La puerta Y se puede construir usando el número imaginario 1j en Python\")\n",
    "print(\"Y|0⟩ = 1j * |1⟩ = i|1⟩\")\n",
    "print(\"Y|1⟩ = -1j * |0⟩ = -i|0⟩\")"
   ]
  }
 ],
 "metadata": {
  "kernelspec": {
   "display_name": "pyQuil_env",
   "language": "python",
   "name": "python3"
  },
  "language_info": {
   "codemirror_mode": {
    "name": "ipython",
    "version": 3
   },
   "file_extension": ".py",
   "mimetype": "text/x-python",
   "name": "python",
   "nbconvert_exporter": "python",
   "pygments_lexer": "ipython3",
   "version": "3.11.13"
  }
 },
 "nbformat": 4,
 "nbformat_minor": 5
}
